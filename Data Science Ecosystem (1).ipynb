{
 "cells": [
  {
   "attachments": {},
   "cell_type": "markdown",
   "id": "09d468b9-be08-4b4d-b35c-0c2d1d2fad73",
   "metadata": {},
   "source": [
    "# Data Science Tools and Ecosystem\n",
    "In this notebook, Data Science Tools and Ecosystem are summarized"
   ]
  },
  {
   "cell_type": "markdown",
   "id": "4e4d4dac-a24a-42f6-93bb-b5f5ea8e8c30",
   "metadata": {},
   "source": [
    "some of the most popular languages that data scientists use are:\n",
    "1. Phyton\n",
    "2. R\n",
    "3. SQL\n",
    "4. Scala\n",
    "5. Java\n",
    "6. C++"
   ]
  },
  {
   "cell_type": "markdown",
   "id": "3b84140d-ee19-46a0-b5bf-4796e980bdd4",
   "metadata": {},
   "source": [
    "Some of the commonly used libraries used by Data Scientists include:\n",
    "1. Pandas\n",
    "2. Nunpy\n",
    "3. Matplotlib\n",
    "4. Seaborn\n",
    "5. Keras"
   ]
  },
  {
   "cell_type": "markdown",
   "id": "b4e4bc72-2b75-4feb-a850-c45cce4a1f8d",
   "metadata": {},
   "source": [
    "### Below are a few examples of evaluating arithmetic expressions in Python"
   ]
  },
  {
   "cell_type": "code",
   "execution_count": 15,
   "id": "f3cb54b9-3aad-4d42-a5c8-b6d02190eb52",
   "metadata": {},
   "outputs": [
    {
     "data": {
      "text/plain": [
       "17"
      ]
     },
     "execution_count": 15,
     "metadata": {},
     "output_type": "execute_result"
    }
   ],
   "source": [
    "#This a simple arithmetic expression to mutiply then add integers\n",
    "(3*4)+5"
   ]
  },
  {
   "cell_type": "code",
   "execution_count": 1,
   "id": "5c7f411c-6dc3-4152-926c-e5e836c5dfe4",
   "metadata": {},
   "outputs": [],
   "source": [
    "#This will convert 200 minutes to hours by diving by 60\n",
    "def minutes_to_hours(minutes):\n",
    "    return minutes / 60"
   ]
  },
  {
   "cell_type": "code",
   "execution_count": 2,
   "id": "4924cfc5-f50a-4c8d-87e1-95643db99139",
   "metadata": {},
   "outputs": [
    {
     "data": {
      "text/plain": [
       "3.3333333333333335"
      ]
     },
     "execution_count": 2,
     "metadata": {},
     "output_type": "execute_result"
    }
   ],
   "source": [
    "minutes_to_hours(200)"
   ]
  },
  {
   "cell_type": "markdown",
   "id": "8ca5a449-700d-4417-8ef5-7b05951d859d",
   "metadata": {},
   "source": [
    "**Objetives**\n",
    " * create markdown cell\n",
    " * calculate aritmetic equations\n",
    " * put different headings\n",
    " * how to use github"
   ]
  },
  {
   "cell_type": "markdown",
   "id": "676bf71f-ec96-4151-a52d-7242323b115e",
   "metadata": {},
   "source": [
    "## Author\n",
    "Arturo Valverde"
   ]
  },
  {
   "cell_type": "code",
   "execution_count": null,
   "id": "c93d0eb6-95f5-4a68-b741-e576f5241488",
   "metadata": {},
   "outputs": [],
   "source": []
  }
 ],
 "metadata": {
  "kernelspec": {
   "display_name": "Python 3 (ipykernel)",
   "language": "python",
   "name": "python3"
  },
  "language_info": {
   "codemirror_mode": {
    "name": "ipython",
    "version": 3
   },
   "file_extension": ".py",
   "mimetype": "text/x-python",
   "name": "python",
   "nbconvert_exporter": "python",
   "pygments_lexer": "ipython3",
   "version": "3.11.7"
  }
 },
 "nbformat": 4,
 "nbformat_minor": 5
}
